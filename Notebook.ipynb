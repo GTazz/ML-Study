{
 "cells": [
  {
   "cell_type": "markdown",
   "id": "1e09e058",
   "metadata": {},
   "source": [
    "# ML Study with TensorFlow"
   ]
  },
  {
   "cell_type": "markdown",
   "id": "1dbb912b",
   "metadata": {},
   "source": [
    "## Setup"
   ]
  },
  {
   "cell_type": "markdown",
   "id": "bf63d176",
   "metadata": {},
   "source": [
    "Install TensorFlow"
   ]
  },
  {
   "cell_type": "code",
   "execution_count": null,
   "id": "68f70260",
   "metadata": {
    "vscode": {
     "languageId": "shellscript"
    }
   },
   "outputs": [],
   "source": [
    "pip install tensorflow"
   ]
  },
  {
   "cell_type": "markdown",
   "id": "1d31d824",
   "metadata": {},
   "source": [
    "## TensorFlow Basics"
   ]
  },
  {
   "cell_type": "markdown",
   "id": "6ebf4cb8",
   "metadata": {},
   "source": [
    "##### Import TensorFlow:"
   ]
  },
  {
   "cell_type": "markdown",
   "id": "d6add210",
   "metadata": {},
   "source": [
    "**Note:** A warning displays if TensorFlow can't use the GPU, and it's ok."
   ]
  },
  {
   "cell_type": "code",
   "execution_count": null,
   "id": "b5b7c0a6",
   "metadata": {},
   "outputs": [],
   "source": [
    "import tensorflow as tf"
   ]
  },
  {
   "cell_type": "markdown",
   "id": "8d55134e",
   "metadata": {},
   "source": [
    "##### Display TensorFlow version:"
   ]
  },
  {
   "cell_type": "code",
   "execution_count": null,
   "id": "c8f56f6a",
   "metadata": {},
   "outputs": [],
   "source": [
    "print('\\n', tf.version, '\\n')"
   ]
  },
  {
   "cell_type": "markdown",
   "id": "d71c9e85",
   "metadata": {},
   "source": [
    "##### Generate a tensor filled with ones:"
   ]
  },
  {
   "cell_type": "code",
   "execution_count": null,
   "id": "85eef807",
   "metadata": {},
   "outputs": [],
   "source": [
    "tensor = tf.ones([5, 5, 5])\n",
    "print(tensor)"
   ]
  },
  {
   "cell_type": "markdown",
   "id": "56d77766",
   "metadata": {},
   "source": [
    "This tensor is an N-dimensional array. Each dimension specifies how many elements are nested inside the previous one — the first dimension is the outermost and the last is the innermost.  \n",
    "The total number of scalar elements equals the product of all dimension sizes.  \n",
    "Examples:\n",
    "- shape [5, 5, 5] → 5 × 5 x 5 = 125 elements\n",
    "- shape [5, 2, 3] → 5 × 2 × 3 = 30 elements  "
   ]
  },
  {
   "cell_type": "markdown",
   "id": "9f1af93d",
   "metadata": {},
   "source": [
    "##### Reshape tensor"
   ]
  },
  {
   "cell_type": "code",
   "execution_count": null,
   "id": "cbe397d2",
   "metadata": {},
   "outputs": [],
   "source": [
    "\n",
    "reshaped_tensor = tf.reshape(tensor, [25, 5])\n",
    "print(reshaped_tensor)"
   ]
  },
  {
   "cell_type": "markdown",
   "id": "5893745d",
   "metadata": {},
   "source": [
    "Reshape changes only the way elements are grouped — it does not change the values or the total number of elements.\n",
    "\n",
    "- Original shape: [5, 5, 5] → 5 × 5 × 5 = 125 elements  \n",
    "- New shape: [25, 5] → 25 × 5 = 125 elements  \n",
    "- Because both products equal 125, the reshape is valid.\n",
    "\n",
    "TensorFlow preserves the element order (row-major/C order), so the data sequence stays the same.\n",
    "\n",
    "Common uses: flattening or combining dimensions (e.g., combine two axes before feeding into a dense layer)."
   ]
  },
  {
   "cell_type": "markdown",
   "id": "9e7ee861",
   "metadata": {},
   "source": [
    "The next operation returns an error because the total number of elements in the new shape does not match the total number of elements in the original tensor."
   ]
  },
  {
   "cell_type": "code",
   "execution_count": null,
   "id": "2c516717",
   "metadata": {},
   "outputs": [],
   "source": [
    "error_tensor = tf.reshape(tensor, [2, 5, 10]) # This will raise an error"
   ]
  },
  {
   "cell_type": "markdown",
   "id": "f8cf5322",
   "metadata": {},
   "source": [
    "- Original tensor shape: [5, 5, 5] → 5 × 5 × 5 = 125 elements  \n",
    "- Requested shape: [2, 5, 10] → 2 × 5 × 10 = 100 elements  \n",
    "- Because 125 ≠ 100, TensorFlow raises an error: reshape can only change how elements are grouped, not their number.\n",
    "\n",
    "How to fix:\n",
    "- Pick a new shape whose elements multiply to 125 (examples: [25, 5], [125], [5, 25], [5, 5, 5]).  "
   ]
  }
 ],
 "metadata": {
  "kernelspec": {
   "display_name": ".venv",
   "language": "python",
   "name": "python3"
  },
  "language_info": {
   "codemirror_mode": {
    "name": "ipython",
    "version": 3
   },
   "file_extension": ".py",
   "mimetype": "text/x-python",
   "name": "python",
   "nbconvert_exporter": "python",
   "pygments_lexer": "ipython3",
   "version": "3.13.3"
  }
 },
 "nbformat": 4,
 "nbformat_minor": 5
}
